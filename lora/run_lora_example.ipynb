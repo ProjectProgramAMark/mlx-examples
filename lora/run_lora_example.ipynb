{
 "cells": [
  {
   "cell_type": "code",
   "execution_count": null,
   "metadata": {},
   "outputs": [],
   "source": [
    "from lora import load_pretrained_model, load_datasets, train, evaluate, generate"
   ]
  },
  {
   "cell_type": "markdown",
   "metadata": {},
   "source": [
    "# Train/Fine-tuning"
   ]
  },
  {
   "cell_type": "markdown",
   "metadata": {},
   "source": [
    "## Loading pre-trained model and datasets"
   ]
  },
  {
   "cell_type": "code",
   "execution_count": null,
   "metadata": {},
   "outputs": [],
   "source": [
    "# Model args\n",
    "model_path = './models/Mistral-7B-Instruct-v0.2-4bit-mlx'\n",
    "lora_layers = 16\n",
    "seed = 0\n",
    "resume_adapter_file = None\n",
    "\n",
    "model_kwargs = {\n",
    "    'batch_size': 4,\n",
    "    'iters': 20,\n",
    "    'adapter_file': \"adapters.npz\",\n",
    "    'learning_rate': 1e-5,\n",
    "    'val_batches': 25,\n",
    "    'steps_per_report': 10,\n",
    "    'steps_per_eval': 200,\n",
    "}\n",
    "\n",
    "data_path =  './data/'"
   ]
  },
  {
   "cell_type": "code",
   "execution_count": null,
   "metadata": {},
   "outputs": [],
   "source": [
    "model, tokenizer, config = load_pretrained_model(model_path, lora_layers, seed, resume_adapter_file)"
   ]
  },
  {
   "cell_type": "code",
   "execution_count": null,
   "metadata": {},
   "outputs": [],
   "source": [
    "train_set, valid_set, test_set = load_datasets(data_path)"
   ]
  },
  {
   "cell_type": "code",
   "execution_count": null,
   "metadata": {},
   "outputs": [],
   "source": [
    "print(f'train_set length: {len(train_set)}')\n",
    "print(f'train_set sample: {train_set[0]}')\n",
    "print(f'valid_set length: {len(valid_set)}')\n",
    "print(f'valid_set sample: {valid_set[0]}')\n",
    "print(f'test_set length: {len(test_set)}')\n",
    "print(f'test_set sample: {test_set[0]}')"
   ]
  },
  {
   "cell_type": "code",
   "execution_count": null,
   "metadata": {},
   "outputs": [],
   "source": [
    "train(model, train_set, valid_set, tokenizer, **model_kwargs)"
   ]
  },
  {
   "cell_type": "markdown",
   "metadata": {},
   "source": [
    "# Testing"
   ]
  },
  {
   "cell_type": "code",
   "execution_count": null,
   "metadata": {},
   "outputs": [],
   "source": [
    "# Test args\n",
    "model_path = './models/Mistral-7B-Instruct-v0.2-4bit-mlx'\n",
    "data_path = './data/'\n",
    "adapter_file = \"adapters.npz\"\n",
    "test_batches = 100\n",
    "batch_size = 4"
   ]
  },
  {
   "cell_type": "code",
   "execution_count": null,
   "metadata": {},
   "outputs": [],
   "source": [
    "test_loss = evaluate(model, test_set, tokenizer, batch_size, test_batches)\n",
    "print(f\"Test loss: {test_loss}\")"
   ]
  },
  {
   "cell_type": "markdown",
   "metadata": {},
   "source": [
    "# Generate"
   ]
  },
  {
   "cell_type": "code",
   "execution_count": null,
   "metadata": {},
   "outputs": [],
   "source": [
    "# Generate args\n",
    "model_path = './models/Mistral-7B-Instruct-v0.2-4bit-mlx'\n",
    "num_tokens = 100\n",
    "temp = 0.8\n",
    "adapter_file = \"adapters.npz\"\n",
    "\n",
    "prompt = \"\"\"input: What is the meaning of life?\n",
    "output: \"\"\""
   ]
  },
  {
   "cell_type": "code",
   "execution_count": null,
   "metadata": {},
   "outputs": [],
   "source": [
    "generated_text = generate(model, prompt, tokenizer, num_tokens, temp, adapter_file)"
   ]
  }
 ],
 "metadata": {
  "kernelspec": {
   "display_name": "mlx",
   "language": "python",
   "name": "python3"
  },
  "language_info": {
   "codemirror_mode": {
    "name": "ipython",
    "version": 3
   },
   "file_extension": ".py",
   "mimetype": "text/x-python",
   "name": "python",
   "nbconvert_exporter": "python",
   "pygments_lexer": "ipython3",
   "version": "3.11.7"
  }
 },
 "nbformat": 4,
 "nbformat_minor": 2
}
